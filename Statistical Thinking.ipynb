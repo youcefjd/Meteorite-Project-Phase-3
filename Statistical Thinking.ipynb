{
 "cells": [
  {
   "cell_type": "code",
   "execution_count": 2,
   "metadata": {},
   "outputs": [],
   "source": [
    "import pandas as pd\n",
    "import numpy as np\n",
    "from scipy import stats\n",
    "import scipy\n",
    "from scipy.stats import norm\n",
    "import matplotlib.pyplot as plt\n",
    "import seaborn as sns"
   ]
  },
  {
   "cell_type": "code",
   "execution_count": 3,
   "metadata": {},
   "outputs": [],
   "source": [
    "data = pd.read_csv('/users/youcefdjeddar/downloads/meteorite-landings.csv')\n",
    "top_10 = data['recclass'].value_counts().index.tolist()[:10]\n",
    "df = data[data['recclass'].isin(top_10)]"
   ]
  },
  {
   "cell_type": "code",
   "execution_count": 4,
   "metadata": {},
   "outputs": [
    {
     "data": {
      "text/html": [
       "<div>\n",
       "<style scoped>\n",
       "    .dataframe tbody tr th:only-of-type {\n",
       "        vertical-align: middle;\n",
       "    }\n",
       "\n",
       "    .dataframe tbody tr th {\n",
       "        vertical-align: top;\n",
       "    }\n",
       "\n",
       "    .dataframe thead th {\n",
       "        text-align: right;\n",
       "    }\n",
       "</style>\n",
       "<table border=\"1\" class=\"dataframe\">\n",
       "  <thead>\n",
       "    <tr style=\"text-align: right;\">\n",
       "      <th></th>\n",
       "      <th>name</th>\n",
       "      <th>id</th>\n",
       "      <th>nametype</th>\n",
       "      <th>recclass</th>\n",
       "      <th>mass</th>\n",
       "      <th>fall</th>\n",
       "      <th>year</th>\n",
       "      <th>reclat</th>\n",
       "      <th>reclong</th>\n",
       "      <th>GeoLocation</th>\n",
       "    </tr>\n",
       "  </thead>\n",
       "  <tbody>\n",
       "    <tr>\n",
       "      <th>0</th>\n",
       "      <td>Aachen</td>\n",
       "      <td>1</td>\n",
       "      <td>Valid</td>\n",
       "      <td>L5</td>\n",
       "      <td>21.0</td>\n",
       "      <td>Fell</td>\n",
       "      <td>1880.0</td>\n",
       "      <td>50.77500</td>\n",
       "      <td>6.08333</td>\n",
       "      <td>(50.775000, 6.083330)</td>\n",
       "    </tr>\n",
       "    <tr>\n",
       "      <th>1</th>\n",
       "      <td>Aarhus</td>\n",
       "      <td>2</td>\n",
       "      <td>Valid</td>\n",
       "      <td>H6</td>\n",
       "      <td>720.0</td>\n",
       "      <td>Fell</td>\n",
       "      <td>1951.0</td>\n",
       "      <td>56.18333</td>\n",
       "      <td>10.23333</td>\n",
       "      <td>(56.183330, 10.233330)</td>\n",
       "    </tr>\n",
       "    <tr>\n",
       "      <th>4</th>\n",
       "      <td>Achiras</td>\n",
       "      <td>370</td>\n",
       "      <td>Valid</td>\n",
       "      <td>L6</td>\n",
       "      <td>780.0</td>\n",
       "      <td>Fell</td>\n",
       "      <td>1902.0</td>\n",
       "      <td>-33.16667</td>\n",
       "      <td>-64.95000</td>\n",
       "      <td>(-33.166670, -64.950000)</td>\n",
       "    </tr>\n",
       "    <tr>\n",
       "      <th>7</th>\n",
       "      <td>Agen</td>\n",
       "      <td>392</td>\n",
       "      <td>Valid</td>\n",
       "      <td>H5</td>\n",
       "      <td>30000.0</td>\n",
       "      <td>Fell</td>\n",
       "      <td>1814.0</td>\n",
       "      <td>44.21667</td>\n",
       "      <td>0.61667</td>\n",
       "      <td>(44.216670, 0.616670)</td>\n",
       "    </tr>\n",
       "    <tr>\n",
       "      <th>8</th>\n",
       "      <td>Aguada</td>\n",
       "      <td>398</td>\n",
       "      <td>Valid</td>\n",
       "      <td>L6</td>\n",
       "      <td>1620.0</td>\n",
       "      <td>Fell</td>\n",
       "      <td>1930.0</td>\n",
       "      <td>-31.60000</td>\n",
       "      <td>-65.23333</td>\n",
       "      <td>(-31.600000, -65.233330)</td>\n",
       "    </tr>\n",
       "  </tbody>\n",
       "</table>\n",
       "</div>"
      ],
      "text/plain": [
       "      name   id nametype recclass     mass  fall    year    reclat   reclong  \\\n",
       "0   Aachen    1    Valid       L5     21.0  Fell  1880.0  50.77500   6.08333   \n",
       "1   Aarhus    2    Valid       H6    720.0  Fell  1951.0  56.18333  10.23333   \n",
       "4  Achiras  370    Valid       L6    780.0  Fell  1902.0 -33.16667 -64.95000   \n",
       "7     Agen  392    Valid       H5  30000.0  Fell  1814.0  44.21667   0.61667   \n",
       "8   Aguada  398    Valid       L6   1620.0  Fell  1930.0 -31.60000 -65.23333   \n",
       "\n",
       "                GeoLocation  \n",
       "0     (50.775000, 6.083330)  \n",
       "1    (56.183330, 10.233330)  \n",
       "4  (-33.166670, -64.950000)  \n",
       "7     (44.216670, 0.616670)  \n",
       "8  (-31.600000, -65.233330)  "
      ]
     },
     "execution_count": 4,
     "metadata": {},
     "output_type": "execute_result"
    }
   ],
   "source": [
    "df.head()"
   ]
  },
  {
   "cell_type": "code",
   "execution_count": 5,
   "metadata": {},
   "outputs": [
    {
     "data": {
      "text/plain": [
       "count    3.585300e+04\n",
       "mean     1.388358e+03\n",
       "std      2.740639e+04\n",
       "min      1.000000e-02\n",
       "25%      6.300000e+00\n",
       "50%      2.530000e+01\n",
       "75%      1.440000e+02\n",
       "max      4.000000e+06\n",
       "Name: mass, dtype: float64"
      ]
     },
     "execution_count": 5,
     "metadata": {},
     "output_type": "execute_result"
    }
   ],
   "source": [
    "df.mass.describe()"
   ]
  },
  {
   "cell_type": "code",
   "execution_count": 6,
   "metadata": {},
   "outputs": [
    {
     "data": {
      "text/plain": [
       "Text(0.5,1,'Seaborn Box Plot')"
      ]
     },
     "execution_count": 6,
     "metadata": {},
     "output_type": "execute_result"
    },
    {
     "data": {
      "image/png": "[encoded data removed]",
      "text/plain": [
       "<Figure size 432x288 with 1 Axes>"
      ]
     },
     "metadata": {},
     "output_type": "display_data"
    }
   ],
   "source": [
    "sns.boxplot(x ='recclass', y='mass', data = df)\n",
    "plt.ylim(0, 100)\n",
    "plt.xlabel('Meteorite Classes')\n",
    "plt.ylabel('Mass (g)')\n",
    "plt.title('Seaborn Box Plot')\n",
    "#Seaborn BP zoomed in the y-axis as the mass is on average between 0 and 100g (otherwise the planet would've been obliterated)"
   ]
  },
  {
   "cell_type": "code",
   "execution_count": 7,
   "metadata": {},
   "outputs": [],
   "source": [
    "mass = df['mass']\n",
    "x = np.sort(df.mass)\n",
    "y = np.arange(1, len(x)+1)/len(x)"
   ]
  },
  {
   "cell_type": "code",
   "execution_count": 8,
   "metadata": {},
   "outputs": [],
   "source": [
    "#Deleting the NaNs to have coherent statistical analysis\n",
    "df1 = df[np.isfinite(df.mass)]\n",
    "#Mass with no NaNs\n",
    "mass1= df1.mass"
   ]
  },
  {
   "cell_type": "code",
   "execution_count": 9,
   "metadata": {},
   "outputs": [
    {
     "data": {
      "text/plain": [
       "Text(0.5,1,'CDF')"
      ]
     },
     "execution_count": 9,
     "metadata": {},
     "output_type": "execute_result"
    },
    {
     "data": {
      "image/png": "[encoded data removed]",
      "text/plain": [
       "<Figure size 432x288 with 1 Axes>"
      ]
     },
     "metadata": {},
     "output_type": "display_data"
    }
   ],
   "source": [
    "#CDF\n",
    "sns.set()\n",
    "_ = plt.plot(x, y, marker= '.', linestyle='none')\n",
    "plt.xlim = (0, 1000000)\n",
    "plt.margins(0.2)\n",
    "plt.xlabel('Mass (g)')\n",
    "plt.title('CDF')\n",
    "#The graph doesn't tell us a lot about the distribution"
   ]
  },
  {
   "cell_type": "code",
   "execution_count": 10,
   "metadata": {},
   "outputs": [
    {
     "data": {
      "text/plain": [
       "Text(0.5,0,'Mass (g)')"
      ]
     },
     "execution_count": 10,
     "metadata": {},
     "output_type": "execute_result"
    },
    {
     "data": {
      "image/png": "[encoded data removed]",
      "text/plain": [
       "<Figure size 432x288 with 1 Axes>"
      ]
     },
     "metadata": {},
     "output_type": "display_data"
    }
   ],
   "source": [
    "mean = np.mean(mass1)\n",
    "std = np.std(mass1)\n",
    "length = len(df1)\n",
    "p=norm.pdf(mass1, mean, std)\n",
    "plt.plot(mass1, p)\n",
    "plt.margins(0.2)\n",
    "plt.title ('Probability Density Function')\n",
    "plt.xlabel('Mass (g)')\n",
    "#Let's try a PDF "
   ]
  },
  {
   "cell_type": "code",
   "execution_count": 25,
   "metadata": {},
   "outputs": [
    {
     "data": {
      "text/plain": [
       "count    9.732000e+03\n",
       "mean     5.708019e+04\n",
       "std      1.242383e+06\n",
       "min      0.000000e+00\n",
       "25%      1.561000e+01\n",
       "50%      9.750000e+01\n",
       "75%      5.790000e+02\n",
       "max      6.000000e+07\n",
       "Name: mass, dtype: float64"
      ]
     },
     "execution_count": 25,
     "metadata": {},
     "output_type": "execute_result"
    }
   ],
   "source": [
    "#Let's now perform a z-test to compare the mean of the mass of the top 10 meteorite classes with the mean of the remaining classes\n",
    "#First let's get the information of the remaining classes\n",
    "non_top_10 = data['recclass'].value_counts().index.tolist()[10:]\n",
    "df2 = data[data['recclass'].isin(non_top_10)]\n",
    "#Deleting the NaNs for accurate statistical analysis\n",
    "df3 = df2[np.isfinite(df2.mass)]\n",
    "mean1 = np.mean(df3.mass)\n",
    "std1 = np.mean(df3.mass)\n",
    "df3.mass.describe()"
   ]
  },
  {
   "cell_type": "code",
   "execution_count": 26,
   "metadata": {},
   "outputs": [
    {
     "name": "stdout",
     "output_type": "stream",
     "text": [
      "T stat: -4.712727414174941e-14\n",
      "P value: 0.9999999999999625\n"
     ]
    }
   ],
   "source": [
    "#T-stat and P-value for the top 10 classes\n",
    "t = stats.ttest_1samp(mass1, mean)[0]\n",
    "p = stats.ttest_1samp(mass1, mean)[1]\n",
    "print(\"T stat:\", t)\n",
    "print(\"P value:\", p)"
   ]
  },
  {
   "cell_type": "code",
   "execution_count": 27,
   "metadata": {},
   "outputs": [
    {
     "name": "stdout",
     "output_type": "stream",
     "text": [
      "T stat: -8.088418772875399e-15\n",
      "P value: 0.9999999999999936\n"
     ]
    }
   ],
   "source": [
    "#T-stat and P-value for the remaining classes\n",
    "t = stats.ttest_1samp(df3.mass, mean1)[0]\n",
    "p = stats.ttest_1samp(df3.mass, mean1)[1]\n",
    "print(\"T stat:\", t)\n",
    "print(\"P value:\", p)"
   ]
  },
  {
   "cell_type": "code",
   "execution_count": null,
   "metadata": {},
   "outputs": [],
   "source": []
  }
 ],
 "metadata": {
  "kernelspec": {
   "display_name": "Python 3",
   "language": "python",
   "name": "python3"
  },
  "language_info": {
   "codemirror_mode": {
    "name": "ipython",
    "version": 3
   },
   "file_extension": ".py",
   "mimetype": "text/x-python",
   "name": "python",
   "nbconvert_exporter": "python",
   "pygments_lexer": "ipython3",
   "version": "3.6.5"
  }
 },
 "nbformat": 4,
 "nbformat_minor": 2
}
